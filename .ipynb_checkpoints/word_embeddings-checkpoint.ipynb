{
 "cells": [
  {
   "cell_type": "markdown",
   "id": "be3140dc-8c05-494a-bc75-25efde889cf4",
   "metadata": {},
   "source": [
    "# Word Embeddings"
   ]
  },
  {
   "cell_type": "markdown",
   "id": "17693940-b813-412e-91c0-dd5af7b2ce2b",
   "metadata": {},
   "source": [
    "word embedding is a technique in natural language processing (NLP) that represents word as dense vectors of real numbers in a low-dimensional space.\n",
    "Unlike traditional one-hot encoding, which represents words as sparse, high-dimensional vectors, word embeddings capture semantic relationships between words, allowing machines to understand linguistic context and meaning more effectively."
   ]
  },
  {
   "cell_type": "markdown",
   "id": "7234d2d9-7ed7-4695-a29d-a37db9fa9969",
   "metadata": {},
   "source": [
    "## Types of Word Embeddings"
   ]
  },
  {
   "cell_type": "markdown",
   "id": "c54ff413-b1b2-43de-810a-8ee62f69830c",
   "metadata": {},
   "source": [
    "1. Frequency based Embedding\n",
    "2. prediction based Embedding\n",
    "\n",
    "## Frequency Based Embedding \n",
    "Frequency based Embeddings focus on creating word representations by analyzing the statistical occurences of words in a corpus\n",
    "### Characterstics:\n",
    "- Rely on counting word occurences\n",
    "- Capture global statistical information about words\n",
    "- typically use matrix factorization techniques\n",
    "\n",
    "### Main techniques: \n",
    "#### Count Vectors\n",
    "- Simplest form of frequency based embeddings\n",
    "- create a matrix where each row represents a word\n",
    "- columns represt context(surrouding words)\n",
    "- values indicate frequency of co-occurence\n",
    "\n",
    "#### TF-IDF (Term Frequency-Inverse Document Frequency)\n",
    "- Weighs word importance by frequency in a document\n",
    "- reduces impact of very common words\n",
    "- highlights unique or distinctive terms\n",
    "\n",
    "#### Latent Sematic Analysis \n",
    "- Uses Singular Value Decomposition (SVD)\n",
    "- Reduces dimensionality of count vectors\n",
    "- Captures semantic relationships between words\n",
    "- handles synonmyn and polysemy\n",
    "\n",
    "#### GloVe (Global Vectors)\n",
    "- combines global matrix factorization with local context window\n",
    "- learns word vectors by capturing global corpus statistics\n",
    "- balance global and local context information\n",
    "- prediction based word embeddings"
   ]
  },
  {
   "cell_type": "markdown",
   "id": "cbd5d789-5f2f-49dc-8be0-d236908d9f5c",
   "metadata": {},
   "source": [
    "## Frequency Based Embedding"
   ]
  },
  {
   "cell_type": "markdown",
   "id": "998d463b-250e-4dc4-b139-a0eb48b35179",
   "metadata": {},
   "source": [
    "### Count Vectorization"
   ]
  },
  {
   "cell_type": "code",
   "execution_count": 1,
   "id": "09897a59-3908-4322-94f6-820c048a7f92",
   "metadata": {},
   "outputs": [],
   "source": [
    "from sklearn.feature_extraction.text import CountVectorizer,TfidfVectorizer\n",
    "from sklearn.metrics.pairwise import cosine_similarity\n",
    "import pandas as pd "
   ]
  },
  {
   "cell_type": "code",
   "execution_count": 2,
   "id": "88ad8faf-1ba8-4e4b-b09d-b0231c711447",
   "metadata": {},
   "outputs": [],
   "source": [
    "text = ['The quick brown fox jumped over the lazy dog']"
   ]
  },
  {
   "cell_type": "code",
   "execution_count": 4,
   "id": "66c0ce75-b809-4610-aece-f7a101e4a885",
   "metadata": {},
   "outputs": [
    {
     "data": {
      "text/plain": [
       "{'the': 7,\n",
       " 'quick': 6,\n",
       " 'brown': 0,\n",
       " 'fox': 2,\n",
       " 'jumped': 3,\n",
       " 'over': 5,\n",
       " 'lazy': 4,\n",
       " 'dog': 1}"
      ]
     },
     "execution_count": 4,
     "metadata": {},
     "output_type": "execute_result"
    }
   ],
   "source": [
    "vectorizer = CountVectorizer()\n",
    "vectorizer.fit(text)\n",
    "vectorizer.vocabulary_"
   ]
  },
  {
   "cell_type": "code",
   "execution_count": 5,
   "id": "c34bbfab-d352-4406-979e-24a48ebf45aa",
   "metadata": {},
   "outputs": [
    {
     "data": {
      "text/plain": [
       "(1, 8)"
      ]
     },
     "execution_count": 5,
     "metadata": {},
     "output_type": "execute_result"
    }
   ],
   "source": [
    "# Encode the Document\n",
    "vector = vectorizer.transform(text)\n",
    "vector.shape"
   ]
  },
  {
   "cell_type": "code",
   "execution_count": 7,
   "id": "7085ebbb-b167-476f-9767-2adf9ef0d82a",
   "metadata": {},
   "outputs": [
    {
     "data": {
      "text/plain": [
       "array([[1, 1, 1, 1, 1, 1, 1, 2]])"
      ]
     },
     "execution_count": 7,
     "metadata": {},
     "output_type": "execute_result"
    }
   ],
   "source": [
    "vector = vectorizer.transform(text)\n",
    "vector.toarray()"
   ]
  },
  {
   "cell_type": "code",
   "execution_count": 9,
   "id": "5091ca28-c8ec-4d71-9d2d-2f9ebbff1304",
   "metadata": {},
   "outputs": [
    {
     "data": {
      "text/html": [
       "<div>\n",
       "<style scoped>\n",
       "    .dataframe tbody tr th:only-of-type {\n",
       "        vertical-align: middle;\n",
       "    }\n",
       "\n",
       "    .dataframe tbody tr th {\n",
       "        vertical-align: top;\n",
       "    }\n",
       "\n",
       "    .dataframe thead th {\n",
       "        text-align: right;\n",
       "    }\n",
       "</style>\n",
       "<table border=\"1\" class=\"dataframe\">\n",
       "  <thead>\n",
       "    <tr style=\"text-align: right;\">\n",
       "      <th></th>\n",
       "      <th>0</th>\n",
       "      <th>1</th>\n",
       "      <th>2</th>\n",
       "      <th>3</th>\n",
       "      <th>4</th>\n",
       "      <th>5</th>\n",
       "      <th>6</th>\n",
       "      <th>7</th>\n",
       "    </tr>\n",
       "  </thead>\n",
       "  <tbody>\n",
       "    <tr>\n",
       "      <th>0</th>\n",
       "      <td>1</td>\n",
       "      <td>1</td>\n",
       "      <td>1</td>\n",
       "      <td>1</td>\n",
       "      <td>1</td>\n",
       "      <td>1</td>\n",
       "      <td>1</td>\n",
       "      <td>2</td>\n",
       "    </tr>\n",
       "  </tbody>\n",
       "</table>\n",
       "</div>"
      ],
      "text/plain": [
       "   0  1  2  3  4  5  6  7\n",
       "0  1  1  1  1  1  1  1  2"
      ]
     },
     "execution_count": 9,
     "metadata": {},
     "output_type": "execute_result"
    }
   ],
   "source": [
    "df = pd.DataFrame(vector.todense())\n",
    "df"
   ]
  },
  {
   "cell_type": "markdown",
   "id": "643fc34f-7138-48e7-a209-2d6133e0e94e",
   "metadata": {},
   "source": [
    "### TF-IDF"
   ]
  },
  {
   "attachments": {},
   "cell_type": "markdown",
   "id": "2f7770dd-6c39-4dee-9982-d75cf2f110b6",
   "metadata": {},
   "source": [
    "### Formula\n",
    "<img src=\"./frm-tf-idf.png\" width=\"400\" height=\"300\">"
   ]
  },
  {
   "cell_type": "code",
   "execution_count": 10,
   "id": "2298bb3c-2e32-442f-8b82-2683f258a6be",
   "metadata": {},
   "outputs": [],
   "source": [
    "text_2 = ['The quick brown fox jumped over the lazy dog','The dog','The fox']"
   ]
  },
  {
   "cell_type": "code",
   "execution_count": 11,
   "id": "ae21446b-e8ad-4e64-8f57-95162f675d95",
   "metadata": {},
   "outputs": [
    {
     "data": {
      "text/plain": [
       "{'the': 7,\n",
       " 'quick': 6,\n",
       " 'brown': 0,\n",
       " 'fox': 2,\n",
       " 'jumped': 3,\n",
       " 'over': 5,\n",
       " 'lazy': 4,\n",
       " 'dog': 1}"
      ]
     },
     "execution_count": 11,
     "metadata": {},
     "output_type": "execute_result"
    }
   ],
   "source": [
    "vectorizer_2 = TfidfVectorizer()\n",
    "\n",
    "vectorizer_2.fit(text_2)\n",
    "vectorizer_2.vocabulary_"
   ]
  },
  {
   "cell_type": "code",
   "execution_count": 12,
   "id": "7b7df8fe-030c-462c-a2f1-2d5e7a1659b9",
   "metadata": {},
   "outputs": [],
   "source": [
    "# Encoding document\n",
    "vector_2 = vectorizer_2.transform(text_2)"
   ]
  },
  {
   "cell_type": "code",
   "execution_count": 13,
   "id": "a422e36e-5858-4b7d-ab31-c6d64ddbef3d",
   "metadata": {},
   "outputs": [
    {
     "data": {
      "text/plain": [
       "array([[0.36388646, 0.27674503, 0.27674503, 0.36388646, 0.36388646,\n",
       "        0.36388646, 0.36388646, 0.42983441],\n",
       "       [0.        , 0.78980693, 0.        , 0.        , 0.        ,\n",
       "        0.        , 0.        , 0.61335554],\n",
       "       [0.        , 0.        , 0.78980693, 0.        , 0.        ,\n",
       "        0.        , 0.        , 0.61335554]])"
      ]
     },
     "execution_count": 13,
     "metadata": {},
     "output_type": "execute_result"
    }
   ],
   "source": [
    "vector_2.toarray()"
   ]
  },
  {
   "cell_type": "code",
   "execution_count": 14,
   "id": "851ad58d-6be0-4850-aa7b-eceeae882b84",
   "metadata": {},
   "outputs": [
    {
     "data": {
      "text/html": [
       "<div>\n",
       "<style scoped>\n",
       "    .dataframe tbody tr th:only-of-type {\n",
       "        vertical-align: middle;\n",
       "    }\n",
       "\n",
       "    .dataframe tbody tr th {\n",
       "        vertical-align: top;\n",
       "    }\n",
       "\n",
       "    .dataframe thead th {\n",
       "        text-align: right;\n",
       "    }\n",
       "</style>\n",
       "<table border=\"1\" class=\"dataframe\">\n",
       "  <thead>\n",
       "    <tr style=\"text-align: right;\">\n",
       "      <th></th>\n",
       "      <th>0</th>\n",
       "      <th>1</th>\n",
       "      <th>2</th>\n",
       "      <th>3</th>\n",
       "      <th>4</th>\n",
       "      <th>5</th>\n",
       "      <th>6</th>\n",
       "      <th>7</th>\n",
       "    </tr>\n",
       "  </thead>\n",
       "  <tbody>\n",
       "    <tr>\n",
       "      <th>0</th>\n",
       "      <td>0.363886</td>\n",
       "      <td>0.276745</td>\n",
       "      <td>0.276745</td>\n",
       "      <td>0.363886</td>\n",
       "      <td>0.363886</td>\n",
       "      <td>0.363886</td>\n",
       "      <td>0.363886</td>\n",
       "      <td>0.429834</td>\n",
       "    </tr>\n",
       "    <tr>\n",
       "      <th>1</th>\n",
       "      <td>0.000000</td>\n",
       "      <td>0.789807</td>\n",
       "      <td>0.000000</td>\n",
       "      <td>0.000000</td>\n",
       "      <td>0.000000</td>\n",
       "      <td>0.000000</td>\n",
       "      <td>0.000000</td>\n",
       "      <td>0.613356</td>\n",
       "    </tr>\n",
       "    <tr>\n",
       "      <th>2</th>\n",
       "      <td>0.000000</td>\n",
       "      <td>0.000000</td>\n",
       "      <td>0.789807</td>\n",
       "      <td>0.000000</td>\n",
       "      <td>0.000000</td>\n",
       "      <td>0.000000</td>\n",
       "      <td>0.000000</td>\n",
       "      <td>0.613356</td>\n",
       "    </tr>\n",
       "  </tbody>\n",
       "</table>\n",
       "</div>"
      ],
      "text/plain": [
       "          0         1         2  ...         5         6         7\n",
       "0  0.363886  0.276745  0.276745  ...  0.363886  0.363886  0.429834\n",
       "1  0.000000  0.789807  0.000000  ...  0.000000  0.000000  0.613356\n",
       "2  0.000000  0.000000  0.789807  ...  0.000000  0.000000  0.613356\n",
       "\n",
       "[3 rows x 8 columns]"
      ]
     },
     "execution_count": 14,
     "metadata": {},
     "output_type": "execute_result"
    }
   ],
   "source": [
    "pd.DataFrame(vector_2.todense())"
   ]
  },
  {
   "cell_type": "code",
   "execution_count": 15,
   "id": "2c978061-c340-4f30-86f5-7f9af7dbed75",
   "metadata": {},
   "outputs": [
    {
     "data": {
      "text/plain": [
       "array([[0.9746629 , 0.60800305, 0.60800305]])"
      ]
     },
     "execution_count": 15,
     "metadata": {},
     "output_type": "execute_result"
    }
   ],
   "source": [
    "# try to get cosine similarity \n",
    "cosine_similarity(vector, vector_2)"
   ]
  },
  {
   "cell_type": "markdown",
   "id": "c55768a9-d00d-4540-bce0-62e992d086d2",
   "metadata": {},
   "source": [
    "### Co-occurence Matrix"
   ]
  }
 ],
 "metadata": {
  "kernelspec": {
   "display_name": "dogcat-classfn-env",
   "language": "python",
   "name": "dogcat-classfn-env"
  },
  "language_info": {
   "codemirror_mode": {
    "name": "ipython",
    "version": 3
   },
   "file_extension": ".py",
   "mimetype": "text/x-python",
   "name": "python",
   "nbconvert_exporter": "python",
   "pygments_lexer": "ipython3",
   "version": "3.9.20"
  }
 },
 "nbformat": 4,
 "nbformat_minor": 5
}
